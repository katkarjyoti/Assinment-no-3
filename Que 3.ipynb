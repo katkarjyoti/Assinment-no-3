{
 "cells": [
  {
   "cell_type": "code",
   "execution_count": 9,
   "metadata": {},
   "outputs": [
    {
     "name": "stdout",
     "output_type": "stream",
     "text": [
      "[[1 2 3]\n",
      " [4 5 6]\n",
      " [7 8 9]]\n",
      "\n",
      "Dimension:  2\n",
      "Size:  9\n"
     ]
    }
   ],
   "source": [
    "import numpy as np\n",
    "arr = np.array( [ [1,2,3] , [4,5,6] , [7,8,9] ] )\n",
    "print(arr)\n",
    "print()\n",
    "print(\"Dimension: \",arr.ndim)\n",
    "print(\"Size: \" ,arr.size)"
   ]
  }
 ],
 "metadata": {
  "kernelspec": {
   "display_name": "Python 3",
   "language": "python",
   "name": "python3"
  },
  "language_info": {
   "codemirror_mode": {
    "name": "ipython",
    "version": 3
   },
   "file_extension": ".py",
   "mimetype": "text/x-python",
   "name": "python",
   "nbconvert_exporter": "python",
   "pygments_lexer": "ipython3",
   "version": "3.8.3"
  }
 },
 "nbformat": 4,
 "nbformat_minor": 4
}
