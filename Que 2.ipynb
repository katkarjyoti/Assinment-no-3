{
 "cells": [
  {
   "cell_type": "code",
   "execution_count": 26,
   "metadata": {},
   "outputs": [
    {
     "name": "stdout",
     "output_type": "stream",
     "text": [
      "number of elements in array:5\n",
      "enter elements inside array :1 3 4 2 5\n",
      "enter elements inside array :9 5 8 0 6\n",
      "[1 3 4 2 5] [9 5 8 0 6]\n",
      "[1 3 4 2 5 9 5 8 0 6]\n",
      "[0 1 2 3 4 5 5 6 8 9]\n"
     ]
    }
   ],
   "source": [
    "import numpy as np\n",
    "n=int(input('number of elements in list:')) \n",
    "l1=list(map(int,input('enter elements inside list1 :').split())) \n",
    "l2=list(map(int,input('enter elements inside list2 :').split())) \n",
    "arr1=np.array(l1)\n",
    "arr2=np.array(l2)\n",
    "print(arr1,arr2)\n",
    "a=np.concatenate((arr1, arr2))\n",
    "print(a)\n",
    "print(np.sort(a))"
   ]
  },
  {
   "cell_type": "code",
   "execution_count": null,
   "metadata": {},
   "outputs": [],
   "source": []
  }
 ],
 "metadata": {
  "kernelspec": {
   "display_name": "Python 3",
   "language": "python",
   "name": "python3"
  },
  "language_info": {
   "codemirror_mode": {
    "name": "ipython",
    "version": 3
   },
   "file_extension": ".py",
   "mimetype": "text/x-python",
   "name": "python",
   "nbconvert_exporter": "python",
   "pygments_lexer": "ipython3",
   "version": "3.8.3"
  }
 },
 "nbformat": 4,
 "nbformat_minor": 4
}
